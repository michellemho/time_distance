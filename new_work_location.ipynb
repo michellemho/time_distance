{
 "cells": [
  {
   "cell_type": "code",
   "execution_count": 1,
   "metadata": {},
   "outputs": [],
   "source": [
    "import pandas as pd\n",
    "import geopandas as gpd\n",
    "import cartoframes\n",
    "import carto\n",
    "import numpy as np\n",
    "import requests\n",
    "import json\n",
    "import os\n",
    "import codecs"
   ]
  },
  {
   "cell_type": "code",
   "execution_count": 2,
   "metadata": {
    "scrolled": false
   },
   "outputs": [],
   "source": [
    "from carto.datasets import DatasetManager"
   ]
  },
  {
   "cell_type": "code",
   "execution_count": 3,
   "metadata": {},
   "outputs": [],
   "source": [
    "cc = cartoframes.CartoContext()"
   ]
  },
  {
   "cell_type": "code",
   "execution_count": 4,
   "metadata": {},
   "outputs": [],
   "source": [
    "api_key = cc.creds.key()"
   ]
  },
  {
   "cell_type": "code",
   "execution_count": 5,
   "metadata": {},
   "outputs": [],
   "source": [
    "BASE_URL = \"https://{organization}.carto.com/user/{user}/\". \\\n",
    "    format(organization='team',\n",
    "           user='michellemho-carto')"
   ]
  },
  {
   "cell_type": "code",
   "execution_count": 6,
   "metadata": {},
   "outputs": [],
   "source": [
    "from carto.auth import APIKeyAuthClient\n",
    "auth_client = APIKeyAuthClient(api_key=api_key, base_url=BASE_URL)"
   ]
  },
  {
   "cell_type": "code",
   "execution_count": 7,
   "metadata": {},
   "outputs": [],
   "source": [
    "df = cc.read('carto_homes',decode_geom=True)"
   ]
  },
  {
   "cell_type": "code",
   "execution_count": 8,
   "metadata": {
    "scrolled": true
   },
   "outputs": [],
   "source": [
    "# Cutoffs every 10 minutes from 10 minutes to 90 minutes\n",
    "query = '''\n",
    "http://localhost:8080/otp/routers/default/isochrone?\n",
    "batch=True&\n",
    "mode=WALK,TRANSIT&\n",
    "date=04/13/2018&\n",
    "time=8:00am&\n",
    "maxWalkDistance=1600&\n",
    "maxTransfers=4&\n",
    "cutoffSec=600&\n",
    "cutoffSec=1200&\n",
    "cutoffSec=1800&\n",
    "cutoffSec=2400&\n",
    "cutoffSec=3000&\n",
    "cutoffSec=3600&\n",
    "cutoffSec=4200&\n",
    "cutoffSec=4800&\n",
    "cutoffSec=5400&\n",
    "fromPlace=\n",
    "'''\n",
    "# sample origin point\n",
    "origin = '40.71708,-73.95172'\n",
    "\n",
    "# print(query.strip() + origin)\n",
    "query_constructed = query.replace('\\n','') + origin"
   ]
  },
  {
   "cell_type": "code",
   "execution_count": 9,
   "metadata": {},
   "outputs": [
    {
     "data": {
      "text/plain": [
       "'http://localhost:8080/otp/routers/default/isochrone?batch=True&mode=WALK,TRANSIT&date=04/13/2018&time=8:00am&maxWalkDistance=1600&maxTransfers=4&cutoffSec=600&cutoffSec=1200&cutoffSec=1800&cutoffSec=2400&cutoffSec=3000&cutoffSec=3600&cutoffSec=4200&cutoffSec=4800&cutoffSec=5400&fromPlace=40.71708,-73.95172'"
      ]
     },
     "execution_count": 9,
     "metadata": {},
     "output_type": "execute_result"
    }
   ],
   "source": [
    "query_constructed"
   ]
  },
  {
   "cell_type": "code",
   "execution_count": 31,
   "metadata": {
    "scrolled": false
   },
   "outputs": [
    {
     "data": {
      "text/html": [
       "<div>\n",
       "<style scoped>\n",
       "    .dataframe tbody tr th:only-of-type {\n",
       "        vertical-align: middle;\n",
       "    }\n",
       "\n",
       "    .dataframe tbody tr th {\n",
       "        vertical-align: top;\n",
       "    }\n",
       "\n",
       "    .dataframe thead th {\n",
       "        text-align: right;\n",
       "    }\n",
       "</style>\n",
       "<table border=\"1\" class=\"dataframe\">\n",
       "  <thead>\n",
       "    <tr style=\"text-align: right;\">\n",
       "      <th></th>\n",
       "      <th>address_line_1</th>\n",
       "      <th>state</th>\n",
       "      <th>the_geom</th>\n",
       "      <th>zip_code</th>\n",
       "      <th>geometry</th>\n",
       "    </tr>\n",
       "    <tr>\n",
       "      <th>cartodb_id</th>\n",
       "      <th></th>\n",
       "      <th></th>\n",
       "      <th></th>\n",
       "      <th></th>\n",
       "      <th></th>\n",
       "    </tr>\n",
       "  </thead>\n",
       "  <tbody>\n",
       "    <tr>\n",
       "      <th>1</th>\n",
       "      <td>796 Madison St</td>\n",
       "      <td>NY</td>\n",
       "      <td>0101000020E61000002D793C2D3F7B52C0841266DAFE57...</td>\n",
       "      <td>11221</td>\n",
       "      <td>POINT (-73.925731 40.687465)</td>\n",
       "    </tr>\n",
       "    <tr>\n",
       "      <th>2</th>\n",
       "      <td>157 Green St</td>\n",
       "      <td>NY</td>\n",
       "      <td>0101000020E61000007D5EF1D4237D52C0220038F6EC5D...</td>\n",
       "      <td>11222</td>\n",
       "      <td>POINT (-73.95531200000001 40.733794)</td>\n",
       "    </tr>\n",
       "    <tr>\n",
       "      <th>3</th>\n",
       "      <td>1096 President St Apt 44</td>\n",
       "      <td>NY</td>\n",
       "      <td>0101000020E61000000B9A9658197D52C0AFEB17EC8655...</td>\n",
       "      <td>11225</td>\n",
       "      <td>POINT (-73.954672 40.66818)</td>\n",
       "    </tr>\n",
       "    <tr>\n",
       "      <th>4</th>\n",
       "      <td>4720 Center Blvd</td>\n",
       "      <td>NY</td>\n",
       "      <td>0101000020E61000009241EE224C7D52C0FE65F7E4615F...</td>\n",
       "      <td>11109</td>\n",
       "      <td>POINT (-73.95777200000001 40.745175)</td>\n",
       "    </tr>\n",
       "    <tr>\n",
       "      <th>6</th>\n",
       "      <td>301 W 105th Street</td>\n",
       "      <td>NY</td>\n",
       "      <td>0101000020E61000000CE544BB0A7E52C0587380608E66...</td>\n",
       "      <td>10025</td>\n",
       "      <td>POINT (-73.96940499999999 40.80122)</td>\n",
       "    </tr>\n",
       "  </tbody>\n",
       "</table>\n",
       "</div>"
      ],
      "text/plain": [
       "                      address_line_1 state  \\\n",
       "cartodb_id                                   \n",
       "1                     796 Madison St    NY   \n",
       "2                       157 Green St    NY   \n",
       "3           1096 President St Apt 44    NY   \n",
       "4                   4720 Center Blvd    NY   \n",
       "6                 301 W 105th Street    NY   \n",
       "\n",
       "                                                     the_geom zip_code  \\\n",
       "cartodb_id                                                               \n",
       "1           0101000020E61000002D793C2D3F7B52C0841266DAFE57...    11221   \n",
       "2           0101000020E61000007D5EF1D4237D52C0220038F6EC5D...    11222   \n",
       "3           0101000020E61000000B9A9658197D52C0AFEB17EC8655...    11225   \n",
       "4           0101000020E61000009241EE224C7D52C0FE65F7E4615F...    11109   \n",
       "6           0101000020E61000000CE544BB0A7E52C0587380608E66...    10025   \n",
       "\n",
       "                                        geometry  \n",
       "cartodb_id                                        \n",
       "1                   POINT (-73.925731 40.687465)  \n",
       "2           POINT (-73.95531200000001 40.733794)  \n",
       "3                    POINT (-73.954672 40.66818)  \n",
       "4           POINT (-73.95777200000001 40.745175)  \n",
       "6            POINT (-73.96940499999999 40.80122)  "
      ]
     },
     "execution_count": 31,
     "metadata": {},
     "output_type": "execute_result"
    }
   ],
   "source": [
    "df.head()"
   ]
  },
  {
   "cell_type": "code",
   "execution_count": 11,
   "metadata": {},
   "outputs": [],
   "source": [
    "banned_stops = []\n",
    "stop_ids = [\"1:L01N\",\n",
    "\"1:L01S\",\n",
    "\"1:L02N\",\n",
    "\"1:L02S\",\n",
    "\"1:L03N\",\n",
    "\"1:L03S\",\n",
    "\"1:L05N\",\n",
    "\"1:L05S\",\n",
    "\"1:L06N\",\n",
    "\"1:L06S\"]\n",
    "for i in stop_ids:\n",
    "    banned_stops.append(\"MTA NYCT_\"+i)"
   ]
  },
  {
   "cell_type": "code",
   "execution_count": 12,
   "metadata": {},
   "outputs": [
    {
     "name": "stdout",
     "output_type": "stream",
     "text": [
      "1:L01N,\n",
      "1:L01S,\n",
      "1:L02N,\n",
      "1:L02S,\n",
      "1:L03N,\n",
      "1:L03S,\n",
      "1:L05N,\n",
      "1:L05S,\n",
      "1:L06N,\n",
      "1:L06S,\n"
     ]
    }
   ],
   "source": [
    "for i in stop_ids:\n",
    "    print(i+',')"
   ]
  },
  {
   "cell_type": "code",
   "execution_count": 13,
   "metadata": {
    "scrolled": true
   },
   "outputs": [
    {
     "name": "stdout",
     "output_type": "stream",
     "text": [
      "MTA NYCT_1:L01N,\n",
      "MTA NYCT_1:L01S,\n",
      "MTA NYCT_1:L02N,\n",
      "MTA NYCT_1:L02S,\n",
      "MTA NYCT_1:L03N,\n",
      "MTA NYCT_1:L03S,\n",
      "MTA NYCT_1:L05N,\n",
      "MTA NYCT_1:L05S,\n",
      "MTA NYCT_1:L06N,\n",
      "MTA NYCT_1:L06S,\n"
     ]
    }
   ],
   "source": [
    "for i in banned_stops:\n",
    "    print(i+',')"
   ]
  },
  {
   "cell_type": "code",
   "execution_count": 29,
   "metadata": {},
   "outputs": [],
   "source": [
    "# Cutoffs every 10 minutes to 90 minutes WITH BANNED STOPS HARD\n",
    "\n",
    "query_no_L = '''\n",
    "http://localhost:8080/otp/routers/default/isochrone?\n",
    "mode=WALK,TRANSIT&\n",
    "date=04/13/2018&\n",
    "time=8:00am&\n",
    "bannedStopsHard=1:L01N,\n",
    "1:L01S,\n",
    "1:L02N,\n",
    "1:L02S,\n",
    "1:L03N,\n",
    "1:L03S,\n",
    "1:L05N,\n",
    "1:L05S,\n",
    "1:L06N,\n",
    "1:L06S&\n",
    "maxWalkDistance=1600&\n",
    "maxTransfers=4&\n",
    "cutoffSec=600&\n",
    "cutoffSec=1200&\n",
    "cutoffSec=1800&\n",
    "cutoffSec=2400&\n",
    "cutoffSec=3000&\n",
    "cutoffSec=3600&\n",
    "cutoffSec=4200&\n",
    "cutoffSec=4800&\n",
    "cutoffSec=5400&\n",
    "routerId=default&\n",
    "fromPlace=\n",
    "'''.format(banned_stops=banned_stops)\n",
    "origin = '40.71708,-73.95172'\n",
    "\n",
    "# print(query.strip() + origin)\n",
    "query_constructed_no_L = query_no_L.replace('\\n','') + origin"
   ]
  },
  {
   "cell_type": "code",
   "execution_count": 30,
   "metadata": {},
   "outputs": [
    {
     "data": {
      "text/plain": [
       "'http://localhost:8080/otp/routers/default/isochrone?mode=WALK,TRANSIT&date=04/13/2018&time=8:00am&bannedStopsHard=1:L01N,1:L01S,1:L02N,1:L02S,1:L03N,1:L03S,1:L05N,1:L05S,1:L06N,1:L06S&maxWalkDistance=1600&maxTransfers=4&cutoffSec=600&cutoffSec=1200&cutoffSec=1800&cutoffSec=2400&cutoffSec=3000&cutoffSec=3600&cutoffSec=4200&cutoffSec=4800&cutoffSec=5400&routerId=default&fromPlace=40.71708,-73.95172'"
      ]
     },
     "execution_count": 30,
     "metadata": {},
     "output_type": "execute_result"
    }
   ],
   "source": [
    "query_constructed_no_L"
   ]
  },
  {
   "cell_type": "code",
   "execution_count": 32,
   "metadata": {},
   "outputs": [
    {
     "name": "stdout",
     "output_type": "stream",
     "text": [
      "address_line_1                                        722 League St\n",
      "state                                                            PA\n",
      "the_geom          0101000020E61000004BE7C3B304CA52C0AA61BF27D6F7...\n",
      "zip_code                                                      19147\n",
      "geometry                               POINT (-75.156537 39.936223)\n",
      "Name: 20, dtype: object 20 failed\n",
      "address_line_1                                       84 Prescott St\n",
      "state                                                            MA\n",
      "the_geom          0101000020E610000055A4C2D842C751C0C2C3B46FEE2F...\n",
      "zip_code                                                      02138\n",
      "geometry                               POINT (-71.113455 42.374464)\n",
      "Name: 21, dtype: object 21 failed\n"
     ]
    }
   ],
   "source": [
    "# add address and origin to properties\n",
    "# save all geojson isocrhones in new directory \"geojson_folder_no_L\" (make this directory first)\n",
    "\n",
    "\n",
    "for i in df.iterrows():\n",
    "    long = i[1]['geometry'].x\n",
    "    lat = i[1]['geometry'].y\n",
    "    address = i[1]['address_line_1']\n",
    "    origin = str(lat) +','+str(long)\n",
    "    query_constructed_no_L = query_no_L.replace('\\n','') + origin\n",
    "    try:\n",
    "        response = requests.request('GET', query_constructed_no_L)\n",
    "        data = response.json()\n",
    "        for d in data['features']:\n",
    "            d['properties']['origin'] = origin\n",
    "            d['properties']['address'] = address\n",
    "\n",
    "        with open('nyc_w_bus/output_{}.geojson'.format(i[0]), 'w') as f:\n",
    "            json.dump(data, f)\n",
    "    except:\n",
    "        print(i[1],i[0],'failed')\n",
    "        continue\n",
    "#     LOCAL_FILE_OR_URL = 'output_{}.geojson'.format(i[0])\n",
    "#     dataset_manager = DatasetManager(auth_client)\n",
    "#     dataset = dataset_manager.create(LOCAL_FILE_OR_URL)"
   ]
  },
  {
   "cell_type": "code",
   "execution_count": 20,
   "metadata": {
    "scrolled": true
   },
   "outputs": [
    {
     "data": {
      "text/plain": [
       "(22, 5)"
      ]
     },
     "execution_count": 20,
     "metadata": {},
     "output_type": "execute_result"
    }
   ],
   "source": [
    "df.shape"
   ]
  },
  {
   "cell_type": "code",
   "execution_count": 22,
   "metadata": {},
   "outputs": [
    {
     "data": {
      "text/plain": [
       "Int64Index([1, 2, 3, 4, 6, 8, 9, 10, 11, 12, 13, 14, 15, 16, 18, 19, 20, 22,\n",
       "            23, 7, 21, 24],\n",
       "           dtype='int64', name='cartodb_id')"
      ]
     },
     "execution_count": 22,
     "metadata": {},
     "output_type": "execute_result"
    }
   ],
   "source": [
    "df.index"
   ]
  },
  {
   "cell_type": "code",
   "execution_count": 33,
   "metadata": {
    "scrolled": false
   },
   "outputs": [
    {
     "data": {
      "text/plain": [
       "0"
      ]
     },
     "execution_count": 33,
     "metadata": {},
     "output_type": "execute_result"
    }
   ],
   "source": [
    "# merge all the geojsons together into one ... use geojson-merge https://github.com/mapbox/geojson-merge\n",
    "os.system('geojson-merge nyc_w_bus/*.geojson > combined_w_bus.geojson')"
   ]
  },
  {
   "cell_type": "code",
   "execution_count": 34,
   "metadata": {},
   "outputs": [
    {
     "name": "stderr",
     "output_type": "stream",
     "text": [
      "/Users/mho/anaconda3/lib/python3.5/site-packages/carto/resources.py:90: FutureWarning: This is part of a non-public CARTO API and may change in the future. Take this into account if you are using this in a production environment\n",
      "  warnings.warn('This is part of a non-public CARTO API and may change in the future. Take this into account if you are using this in a production environment', FutureWarning)\n"
     ]
    }
   ],
   "source": [
    "# Use CARTO python manager to send file to your CARTO account (authenticated before)\n",
    "\n",
    "LOCAL_FILE_OR_URL = 'combined_w_bus.geojson'\n",
    "dataset_manager = DatasetManager(auth_client)\n",
    "dataset = dataset_manager.create(LOCAL_FILE_OR_URL)"
   ]
  },
  {
   "cell_type": "code",
   "execution_count": 35,
   "metadata": {
    "scrolled": true
   },
   "outputs": [
    {
     "data": {
      "text/html": [
       "<iframe srcdoc=\"<!DOCTYPE html>\n",
       "<html>\n",
       "  <head>\n",
       "    <title>Carto</title>\n",
       "    <meta name='viewport' content='initial-scale=1.0, user-scalable=no' />\n",
       "    <meta http-equiv='content-type' content='text/html; charset=UTF-8' />\n",
       "    <link rel='shortcut icon' href='http://cartodb.com/assets/favicon.ico' />\n",
       "\n",
       "    <style>\n",
       "     html, body, #map {\n",
       "       height: 100%;\n",
       "       padding: 0;\n",
       "       margin: 0;\n",
       "     }\n",
       "     #zoom-center {\n",
       "       position: absolute;\n",
       "       right: 0;\n",
       "       top: 0;\n",
       "       background-color: rgba(255, 255, 255, 0.7);\n",
       "       width: 240px;\n",
       "       z-index: 100;\n",
       "       padding: 4px;\n",
       "     }\n",
       "    </style>\n",
       "\n",
       "    <link rel='stylesheet' href='https://cartodb-libs.global.ssl.fastly.net/cartodb.js/v3/3.15/themes/css/cartodb.css' />\n",
       "  </head>\n",
       "  <body>\n",
       "    <div id='zoom-center'>\n",
       "      zoom=<span id='zoom'>4</span>,\n",
       "      lng=<span id='lon'>No data</span>, lat=<span id='lat'>No data</span>\n",
       "    </div>\n",
       "    <div id='map'></div>\n",
       "    <script src='https://cartodb-libs.global.ssl.fastly.net/cartodb.js/v3/3.15/cartodb.js'></script>\n",
       "\n",
       "    <script>\n",
       "     const config  = {&quot;sql_api_template&quot;: &quot;https://michellemho-carto.carto.com&quot;, &quot;named_map&quot;: {&quot;params&quot;: {&quot;east&quot;: -73.6682, &quot;sql_0&quot;: &quot;SELECT * FROM combined_w_bus&quot;, &quot;cartocss_0&quot;: &quot;#layer {  line-width: 0.5; line-opacity: 0.25; polygon-opacity: 0.9; line-comp-op: hard-light; line-color: #FFF; polygon-fill: #5D69B1; polygon-gamma: 0.5;}&quot;, &quot;south&quot;: 40.5696, &quot;north&quot;: 40.9613, &quot;west&quot;: -74.183, &quot;basemap_url&quot;: &quot;https://{s}.basemaps.cartocdn.com/rastertiles/voyager_nolabels/{z}/{x}/{y}.png&quot;}, &quot;name&quot;: &quot;cartoframes_ver20170406_layers1_time0_baseid2_labels1_zoom0&quot;}, &quot;tiler_protocol&quot;: &quot;https&quot;, &quot;tiler_domain&quot;: &quot;carto.com&quot;, &quot;tiler_port&quot;: &quot;80&quot;, &quot;type&quot;: &quot;namedmap&quot;, &quot;user_name&quot;: &quot;michellemho-carto&quot;, &quot;maps_api_template&quot;: &quot;https://michellemho-carto.carto.com&quot;};\n",
       "     const bounds  = [[40.9613, -73.6682], [40.5696, -74.183]];\n",
       "     const options = {&quot;filter&quot;: [&quot;mapnik&quot;, &quot;torque&quot;], &quot;https&quot;: true};\n",
       "     var labels_url = 'https://{s}.basemaps.cartocdn.com/rastertiles/voyager_only_labels/{z}/{x}/{y}.png';\n",
       "\n",
       "     const adjustLongitude = (lng) => (\n",
       "       lng - ((Math.ceil((lng + 180) / 360) - 1) * 360)\n",
       "     );\n",
       "     const map = L.map('map', {\n",
       "       zoom: 3,\n",
       "       center: [0, 0],\n",
       "     });\n",
       "\n",
       "     if (L.Browser.retina) {\n",
       "         var basemap = config.named_map.params.basemap_url.replace('.png', '@2x.png');\n",
       "         labels_url = labels_url.replace('.png', '@2x.png');\n",
       "     } else {\n",
       "         var basemap = config.named_map.params.basemap_url;\n",
       "     }\n",
       "     L.tileLayer(basemap, {\n",
       "         attribution: &quot;&copy; <a href=\\&quot;http://www.openstreetmap.org/copyright\\&quot;>OpenStreetMap</a>&quot;\n",
       "     }).addTo(map);\n",
       "\n",
       "     const updateMapInfo = () => {\n",
       "       $('#zoom').text(map.getZoom());\n",
       "       $('#lat').text(map.getCenter().lat.toFixed(4));\n",
       "       $('#lon').text(adjustLongitude(map.getCenter().lng).toFixed(4));\n",
       "     };\n",
       "\n",
       "     cartodb.createLayer(map, config, options)\n",
       "            .addTo(map)\n",
       "            .done((layer) => {\n",
       "                // add labels layer\n",
       "                if (labels_url) {\n",
       "                    var topPane = L.DomUtil.create('div', 'leaflet-top-pane', map.getPanes().mapPane);\n",
       "                    var topLayer = new L.tileLayer(labels_url).addTo(map);\n",
       "                    topPane.appendChild(topLayer.getContainer());\n",
       "                    topLayer.setZIndex(7);\n",
       "                 }\n",
       "\n",
       "                // fit map to bounds\n",
       "                if (bounds.length) {\n",
       "                  map.fitBounds(bounds);\n",
       "                }\n",
       "\n",
       "                updateMapInfo();\n",
       "                map.on('move', () => {\n",
       "                  updateMapInfo();\n",
       "                });\n",
       "            })\n",
       "            .error((err) => {\n",
       "              console.log('ERROR: ', err);\n",
       "            });\n",
       "    </script>\n",
       "\n",
       "  </body>\n",
       "</html>\n",
       "\" width=800 height=400>  Preview image: <img src=\"https://michellemho-carto.carto.com/api/v1/map/static/named/cartoframes_ver20170406_layers1_time0_baseid2_labels1_zoom0/800/400.png?anti_cache=0.7945665728547519&config=%7B%22sql_0%22%3A+%22SELECT+%2A+FROM+combined_w_bus%22%2C+%22basemap_url%22%3A+%22https%3A%2F%2F%7Bs%7D.basemaps.cartocdn.com%2Frastertiles%2Fvoyager_nolabels%2F%7Bz%7D%2F%7Bx%7D%2F%7By%7D.png%22%2C+%22cartocss_0%22%3A+%22%23layer+%7B++line-width%3A+0.5%3B+line-opacity%3A+0.25%3B+polygon-opacity%3A+0.9%3B+line-comp-op%3A+hard-light%3B+line-color%3A+%23FFF%3B+polygon-fill%3A+%235D69B1%3B+polygon-gamma%3A+0.5%3B%7D%22%7D&bbox=-74.183%2C40.5696%2C-73.6682%2C40.9613\" /></iframe>"
      ],
      "text/plain": [
       "<IPython.core.display.HTML object>"
      ]
     },
     "execution_count": 35,
     "metadata": {},
     "output_type": "execute_result"
    }
   ],
   "source": [
    "# Check out the isochrone layer...\n",
    "\n",
    "cc.map(layers=cartoframes.Layer('combined_w_bus'))"
   ]
  },
  {
   "cell_type": "code",
   "execution_count": 264,
   "metadata": {},
   "outputs": [],
   "source": [
    "rect_grid_creation = '''\n",
    "CREATE TABLE rect_grid_copy\n",
    "AS (SELECT ST_Transform(ST_SetSRID(CDB_RectangleGrid(ST_Extent(the_geom), .002, .002),4326),3857)  as the_geom_webmercator, ST_SetSRID(CDB_RectangleGrid(ST_Extent(the_geom), .002, .002),4326) as the_geom FROM combined_no_L)\n",
    "'''"
   ]
  },
  {
   "cell_type": "code",
   "execution_count": 36,
   "metadata": {},
   "outputs": [],
   "source": [
    "# Add the cartodb_id and make accessible in dashboard\n",
    "cartodbfytable = '''\n",
    "SELECT CDB_cartodbfytable('michellemho-carto', 'rect_grid_copy')\n",
    "'''"
   ]
  },
  {
   "cell_type": "code",
   "execution_count": 37,
   "metadata": {
    "scrolled": false
   },
   "outputs": [],
   "source": [
    "df = cc.read('rect_grid_copy')"
   ]
  },
  {
   "cell_type": "code",
   "execution_count": 38,
   "metadata": {
    "scrolled": true
   },
   "outputs": [
    {
     "data": {
      "text/html": [
       "<iframe srcdoc=\"<!DOCTYPE html>\n",
       "<html>\n",
       "  <head>\n",
       "    <title>Carto</title>\n",
       "    <meta name='viewport' content='initial-scale=1.0, user-scalable=no' />\n",
       "    <meta http-equiv='content-type' content='text/html; charset=UTF-8' />\n",
       "    <link rel='shortcut icon' href='http://cartodb.com/assets/favicon.ico' />\n",
       "\n",
       "    <style>\n",
       "     html, body, #map {\n",
       "       height: 100%;\n",
       "       padding: 0;\n",
       "       margin: 0;\n",
       "     }\n",
       "     #zoom-center {\n",
       "       position: absolute;\n",
       "       right: 0;\n",
       "       top: 0;\n",
       "       background-color: rgba(255, 255, 255, 0.7);\n",
       "       width: 240px;\n",
       "       z-index: 100;\n",
       "       padding: 4px;\n",
       "     }\n",
       "    </style>\n",
       "\n",
       "    <link rel='stylesheet' href='https://cartodb-libs.global.ssl.fastly.net/cartodb.js/v3/3.15/themes/css/cartodb.css' />\n",
       "  </head>\n",
       "  <body>\n",
       "    <div id='zoom-center'>\n",
       "      zoom=<span id='zoom'>4</span>,\n",
       "      lng=<span id='lon'>No data</span>, lat=<span id='lat'>No data</span>\n",
       "    </div>\n",
       "    <div id='map'></div>\n",
       "    <script src='https://cartodb-libs.global.ssl.fastly.net/cartodb.js/v3/3.15/cartodb.js'></script>\n",
       "\n",
       "    <script>\n",
       "     const config  = {&quot;sql_api_template&quot;: &quot;https://michellemho-carto.carto.com&quot;, &quot;named_map&quot;: {&quot;params&quot;: {&quot;east&quot;: -73.671, &quot;sql_0&quot;: &quot;SELECT * FROM rect_grid_extended&quot;, &quot;cartocss_0&quot;: &quot;#layer {  line-width: 0.5; line-opacity: 0.25; polygon-opacity: 0.9; line-comp-op: hard-light; line-color: #FFF; polygon-fill: #5D69B1; polygon-gamma: 0.5;}&quot;, &quot;south&quot;: 40.573, &quot;north&quot;: 40.9070000000004, &quot;west&quot;: -74.035, &quot;basemap_url&quot;: &quot;https://{s}.basemaps.cartocdn.com/rastertiles/voyager_nolabels/{z}/{x}/{y}.png&quot;}, &quot;name&quot;: &quot;cartoframes_ver20170406_layers1_time0_baseid2_labels1_zoom0&quot;}, &quot;tiler_protocol&quot;: &quot;https&quot;, &quot;tiler_domain&quot;: &quot;carto.com&quot;, &quot;tiler_port&quot;: &quot;80&quot;, &quot;type&quot;: &quot;namedmap&quot;, &quot;user_name&quot;: &quot;michellemho-carto&quot;, &quot;maps_api_template&quot;: &quot;https://michellemho-carto.carto.com&quot;};\n",
       "     const bounds  = [[40.9070000000004, -73.671], [40.573, -74.035]];\n",
       "     const options = {&quot;filter&quot;: [&quot;mapnik&quot;, &quot;torque&quot;], &quot;https&quot;: true};\n",
       "     var labels_url = 'https://{s}.basemaps.cartocdn.com/rastertiles/voyager_only_labels/{z}/{x}/{y}.png';\n",
       "\n",
       "     const adjustLongitude = (lng) => (\n",
       "       lng - ((Math.ceil((lng + 180) / 360) - 1) * 360)\n",
       "     );\n",
       "     const map = L.map('map', {\n",
       "       zoom: 3,\n",
       "       center: [0, 0],\n",
       "     });\n",
       "\n",
       "     if (L.Browser.retina) {\n",
       "         var basemap = config.named_map.params.basemap_url.replace('.png', '@2x.png');\n",
       "         labels_url = labels_url.replace('.png', '@2x.png');\n",
       "     } else {\n",
       "         var basemap = config.named_map.params.basemap_url;\n",
       "     }\n",
       "     L.tileLayer(basemap, {\n",
       "         attribution: &quot;&copy; <a href=\\&quot;http://www.openstreetmap.org/copyright\\&quot;>OpenStreetMap</a>&quot;\n",
       "     }).addTo(map);\n",
       "\n",
       "     const updateMapInfo = () => {\n",
       "       $('#zoom').text(map.getZoom());\n",
       "       $('#lat').text(map.getCenter().lat.toFixed(4));\n",
       "       $('#lon').text(adjustLongitude(map.getCenter().lng).toFixed(4));\n",
       "     };\n",
       "\n",
       "     cartodb.createLayer(map, config, options)\n",
       "            .addTo(map)\n",
       "            .done((layer) => {\n",
       "                // add labels layer\n",
       "                if (labels_url) {\n",
       "                    var topPane = L.DomUtil.create('div', 'leaflet-top-pane', map.getPanes().mapPane);\n",
       "                    var topLayer = new L.tileLayer(labels_url).addTo(map);\n",
       "                    topPane.appendChild(topLayer.getContainer());\n",
       "                    topLayer.setZIndex(7);\n",
       "                 }\n",
       "\n",
       "                // fit map to bounds\n",
       "                if (bounds.length) {\n",
       "                  map.fitBounds(bounds);\n",
       "                }\n",
       "\n",
       "                updateMapInfo();\n",
       "                map.on('move', () => {\n",
       "                  updateMapInfo();\n",
       "                });\n",
       "            })\n",
       "            .error((err) => {\n",
       "              console.log('ERROR: ', err);\n",
       "            });\n",
       "    </script>\n",
       "\n",
       "  </body>\n",
       "</html>\n",
       "\" width=800 height=400>  Preview image: <img src=\"https://michellemho-carto.carto.com/api/v1/map/static/named/cartoframes_ver20170406_layers1_time0_baseid2_labels1_zoom0/800/400.png?anti_cache=0.14242163109967398&config=%7B%22sql_0%22%3A+%22SELECT+%2A+FROM+rect_grid_extended%22%2C+%22basemap_url%22%3A+%22https%3A%2F%2F%7Bs%7D.basemaps.cartocdn.com%2Frastertiles%2Fvoyager_nolabels%2F%7Bz%7D%2F%7Bx%7D%2F%7By%7D.png%22%2C+%22cartocss_0%22%3A+%22%23layer+%7B++line-width%3A+0.5%3B+line-opacity%3A+0.25%3B+polygon-opacity%3A+0.9%3B+line-comp-op%3A+hard-light%3B+line-color%3A+%23FFF%3B+polygon-fill%3A+%235D69B1%3B+polygon-gamma%3A+0.5%3B%7D%22%7D&bbox=-74.035%2C40.573%2C-73.671%2C40.9070000000004\" /></iframe>"
      ],
      "text/plain": [
       "<IPython.core.display.HTML object>"
      ]
     },
     "execution_count": 38,
     "metadata": {},
     "output_type": "execute_result"
    }
   ],
   "source": [
    "cc.map(layers=cartoframes.Layer('rect_grid_extended'))"
   ]
  },
  {
   "cell_type": "code",
   "execution_count": 39,
   "metadata": {
    "scrolled": true
   },
   "outputs": [
    {
     "data": {
      "text/html": [
       "<iframe srcdoc=\"<!DOCTYPE html>\n",
       "<html>\n",
       "  <head>\n",
       "    <title>Carto</title>\n",
       "    <meta name='viewport' content='initial-scale=1.0, user-scalable=no' />\n",
       "    <meta http-equiv='content-type' content='text/html; charset=UTF-8' />\n",
       "    <link rel='shortcut icon' href='http://cartodb.com/assets/favicon.ico' />\n",
       "\n",
       "    <style>\n",
       "     html, body, #map {\n",
       "       height: 100%;\n",
       "       padding: 0;\n",
       "       margin: 0;\n",
       "     }\n",
       "     #zoom-center {\n",
       "       position: absolute;\n",
       "       right: 0;\n",
       "       top: 0;\n",
       "       background-color: rgba(255, 255, 255, 0.7);\n",
       "       width: 240px;\n",
       "       z-index: 100;\n",
       "       padding: 4px;\n",
       "     }\n",
       "    </style>\n",
       "\n",
       "    <link rel='stylesheet' href='https://cartodb-libs.global.ssl.fastly.net/cartodb.js/v3/3.15/themes/css/cartodb.css' />\n",
       "  </head>\n",
       "  <body>\n",
       "    <div id='zoom-center'>\n",
       "      zoom=<span id='zoom'>4</span>,\n",
       "      lng=<span id='lon'>No data</span>, lat=<span id='lat'>No data</span>\n",
       "    </div>\n",
       "    <div id='map'></div>\n",
       "    <script src='https://cartodb-libs.global.ssl.fastly.net/cartodb.js/v3/3.15/cartodb.js'></script>\n",
       "\n",
       "    <script>\n",
       "     const config  = {&quot;sql_api_template&quot;: &quot;https://michellemho-carto.carto.com&quot;, &quot;named_map&quot;: {&quot;params&quot;: {&quot;east&quot;: -73.799, &quot;sql_0&quot;: &quot;select * from rect_grid_extended where count = 20&quot;, &quot;cartocss_0&quot;: &quot;#layer {  line-width: 0.5; line-opacity: 0.25; polygon-opacity: 0.9; line-comp-op: hard-light; line-color: #FFF; polygon-fill: #5D69B1; polygon-gamma: 0.5;}&quot;, &quot;south&quot;: 40.573, &quot;north&quot;: 40.8430000000003, &quot;west&quot;: -74.035, &quot;basemap_url&quot;: &quot;https://{s}.basemaps.cartocdn.com/rastertiles/voyager_nolabels/{z}/{x}/{y}.png&quot;}, &quot;name&quot;: &quot;cartoframes_ver20170406_layers1_time0_baseid2_labels1_zoom0&quot;}, &quot;tiler_protocol&quot;: &quot;https&quot;, &quot;tiler_domain&quot;: &quot;carto.com&quot;, &quot;tiler_port&quot;: &quot;80&quot;, &quot;type&quot;: &quot;namedmap&quot;, &quot;user_name&quot;: &quot;michellemho-carto&quot;, &quot;maps_api_template&quot;: &quot;https://michellemho-carto.carto.com&quot;};\n",
       "     const bounds  = [[40.8430000000003, -73.799], [40.573, -74.035]];\n",
       "     const options = {&quot;filter&quot;: [&quot;mapnik&quot;, &quot;torque&quot;], &quot;https&quot;: true};\n",
       "     var labels_url = 'https://{s}.basemaps.cartocdn.com/rastertiles/voyager_only_labels/{z}/{x}/{y}.png';\n",
       "\n",
       "     const adjustLongitude = (lng) => (\n",
       "       lng - ((Math.ceil((lng + 180) / 360) - 1) * 360)\n",
       "     );\n",
       "     const map = L.map('map', {\n",
       "       zoom: 3,\n",
       "       center: [0, 0],\n",
       "     });\n",
       "\n",
       "     if (L.Browser.retina) {\n",
       "         var basemap = config.named_map.params.basemap_url.replace('.png', '@2x.png');\n",
       "         labels_url = labels_url.replace('.png', '@2x.png');\n",
       "     } else {\n",
       "         var basemap = config.named_map.params.basemap_url;\n",
       "     }\n",
       "     L.tileLayer(basemap, {\n",
       "         attribution: &quot;&copy; <a href=\\&quot;http://www.openstreetmap.org/copyright\\&quot;>OpenStreetMap</a>&quot;\n",
       "     }).addTo(map);\n",
       "\n",
       "     const updateMapInfo = () => {\n",
       "       $('#zoom').text(map.getZoom());\n",
       "       $('#lat').text(map.getCenter().lat.toFixed(4));\n",
       "       $('#lon').text(adjustLongitude(map.getCenter().lng).toFixed(4));\n",
       "     };\n",
       "\n",
       "     cartodb.createLayer(map, config, options)\n",
       "            .addTo(map)\n",
       "            .done((layer) => {\n",
       "                // add labels layer\n",
       "                if (labels_url) {\n",
       "                    var topPane = L.DomUtil.create('div', 'leaflet-top-pane', map.getPanes().mapPane);\n",
       "                    var topLayer = new L.tileLayer(labels_url).addTo(map);\n",
       "                    topPane.appendChild(topLayer.getContainer());\n",
       "                    topLayer.setZIndex(7);\n",
       "                 }\n",
       "\n",
       "                // fit map to bounds\n",
       "                if (bounds.length) {\n",
       "                  map.fitBounds(bounds);\n",
       "                }\n",
       "\n",
       "                updateMapInfo();\n",
       "                map.on('move', () => {\n",
       "                  updateMapInfo();\n",
       "                });\n",
       "            })\n",
       "            .error((err) => {\n",
       "              console.log('ERROR: ', err);\n",
       "            });\n",
       "    </script>\n",
       "\n",
       "  </body>\n",
       "</html>\n",
       "\" width=800 height=400>  Preview image: <img src=\"https://michellemho-carto.carto.com/api/v1/map/static/named/cartoframes_ver20170406_layers1_time0_baseid2_labels1_zoom0/800/400.png?anti_cache=0.7950976672579098&config=%7B%22sql_0%22%3A+%22select+%2A+from+rect_grid_extended+where+count+%3D+20%22%2C+%22basemap_url%22%3A+%22https%3A%2F%2F%7Bs%7D.basemaps.cartocdn.com%2Frastertiles%2Fvoyager_nolabels%2F%7Bz%7D%2F%7Bx%7D%2F%7By%7D.png%22%2C+%22cartocss_0%22%3A+%22%23layer+%7B++line-width%3A+0.5%3B+line-opacity%3A+0.25%3B+polygon-opacity%3A+0.9%3B+line-comp-op%3A+hard-light%3B+line-color%3A+%23FFF%3B+polygon-fill%3A+%235D69B1%3B+polygon-gamma%3A+0.5%3B%7D%22%7D&bbox=-74.035%2C40.573%2C-73.799%2C40.8430000000003\" /></iframe>"
      ],
      "text/plain": [
       "<IPython.core.display.HTML object>"
      ]
     },
     "execution_count": 39,
     "metadata": {},
     "output_type": "execute_result"
    }
   ],
   "source": [
    "cc.map(layers=cartoframes.QueryLayer('select * from rect_grid_extended where count = 20'))"
   ]
  },
  {
   "cell_type": "code",
   "execution_count": 178,
   "metadata": {},
   "outputs": [],
   "source": [
    "# This is just for testing\n",
    "count_overlaps ='''\n",
    "  SELECT count(*) AS count, p.cartodb_id AS id  \n",
    "  FROM rect_grid p \n",
    "  JOIN combined_1 c \n",
    "  ON ST_intersects(c.the_geom, p.the_geom)\n",
    "  GROUP BY p.cartodb_id\n",
    "'''"
   ]
  },
  {
   "cell_type": "code",
   "execution_count": 38,
   "metadata": {},
   "outputs": [],
   "source": [
    "# WARNING: THIS WILL TIMEOUT\n",
    "# USE BATCH API TO RUN THESE UPDATE STATMENTS https://cartodb.github.io/customer_success/batch/\n",
    "\n",
    "# cc.query(update_count_overlaps)"
   ]
  },
  {
   "cell_type": "code",
   "execution_count": 270,
   "metadata": {},
   "outputs": [],
   "source": [
    "# use distinct on c.origin to avoid double counting ids and times...\n",
    "\n",
    "update_count_overlaps = '''\n",
    "  ALTER TABLE grid_test ADD COLUMN count INTEGER DEFAULT 0;\n",
    "UPDATE grid_test set count = p.count\n",
    "FROM\n",
    "  (SELECT count(distinct(c.origin)) AS count, p.cartodb_id AS id  \n",
    "  FROM grid_test p \n",
    "  JOIN extended_no_L c \n",
    "  ON ST_intersects(c.the_geom, p.the_geom)\n",
    "  GROUP BY p.cartodb_id) as p\n",
    "WHERE p.id = grid_test.cartodb_id\n",
    "'''"
   ]
  },
  {
   "cell_type": "code",
   "execution_count": 26,
   "metadata": {},
   "outputs": [],
   "source": [
    "update_sum_overlaps_minimums = '''\n",
    "ALTER TABLE rect_grid_extended ADD COLUMN sum_time INTEGER DEFAULT 0;\n",
    "UPDATE rect_grid_extended set sum_time = d.sum\n",
    "FROM (\n",
    "SELECT sum(min_table.minimum), min_table.id AS id\n",
    "FROM\n",
    "  (SELECT min(time) AS minimum, p.cartodb_id AS id, c.address\n",
    "  FROM rect_grid_extended p \n",
    "  JOIN extended_no_L c \n",
    "  ON ST_Intersects(c.the_geom,p.the_geom)\n",
    "  GROUP BY p.cartodb_id, c.address) as min_table\n",
    "GROUP BY min_table.id) as d\n",
    "where d.id = rect_grid_extended.cartodb_id;\n",
    "'''"
   ]
  },
  {
   "cell_type": "markdown",
   "metadata": {},
   "source": [
    "# Trying just a planned trips"
   ]
  },
  {
   "cell_type": "code",
   "execution_count": 28,
   "metadata": {},
   "outputs": [
    {
     "name": "stdout",
     "output_type": "stream",
     "text": [
      "\n",
      "http://localhost:8080/otp/routers/default/plan?\n",
      "toPlace=40.8012,-73.9694&\n",
      "date=04/13/2018&\n",
      "time=8:00am&\n",
      "mode=BUS,WALK&\n",
      "maxWalkDistance=1600&\n",
      "arriveBy=false&\n",
      "bannedStops=1:L10N&\n",
      "fromPlace=\n",
      "40.75065443,-73.99370313\n"
     ]
    }
   ],
   "source": [
    "# trip to Andy\n",
    "plan_query = '''\n",
    "http://localhost:8080/otp/routers/default/plan?\n",
    "toPlace=40.8012,-73.9694&\n",
    "date=04/13/2018&\n",
    "time=8:00am&\n",
    "mode=BUS,WALK&\n",
    "maxWalkDistance=1600&\n",
    "arriveBy=false&\n",
    "bannedStops=1:L10N&\n",
    "fromPlace=\n",
    "'''\n",
    "print(plan_query+origin)"
   ]
  },
  {
   "cell_type": "code",
   "execution_count": null,
   "metadata": {},
   "outputs": [],
   "source": []
  }
 ],
 "metadata": {
  "anaconda-cloud": {},
  "kernelspec": {
   "display_name": "Python [conda env:anaconda3]",
   "language": "python",
   "name": "conda-env-anaconda3-py"
  },
  "language_info": {
   "codemirror_mode": {
    "name": "ipython",
    "version": 3
   },
   "file_extension": ".py",
   "mimetype": "text/x-python",
   "name": "python",
   "nbconvert_exporter": "python",
   "pygments_lexer": "ipython3",
   "version": "3.5.2"
  }
 },
 "nbformat": 4,
 "nbformat_minor": 2
}
